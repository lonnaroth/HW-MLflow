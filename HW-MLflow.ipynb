{
 "cells": [
  {
   "cell_type": "markdown",
   "id": "eefe12fe",
   "metadata": {},
   "source": [
    "### 1. Setup the Environment"
   ]
  },
  {
   "cell_type": "code",
   "execution_count": null,
   "id": "4f026fd7",
   "metadata": {},
   "outputs": [],
   "source": [
    "pip install pandas scikit-learn mlflow"
   ]
  },
  {
   "cell_type": "markdown",
   "id": "d12bb700",
   "metadata": {},
   "source": [
    "### 2. Load the Titanic Dataset"
   ]
  },
  {
   "cell_type": "code",
   "execution_count": null,
   "id": "5db709e2",
   "metadata": {},
   "outputs": [],
   "source": [
    "import pandas as pd\n",
    "import seaborn as sns\n",
    "\n",
    "# Load the Titanic dataset\n",
    "titanic = sns.load_dataset('titanic')\n"
   ]
  },
  {
   "cell_type": "code",
   "execution_count": null,
   "id": "a2ebb089",
   "metadata": {},
   "outputs": [],
   "source": [
    "# Preview the dataset\n",
    "print(titanic.head())"
   ]
  },
  {
   "cell_type": "markdown",
   "id": "a18a3a88",
   "metadata": {},
   "source": [
    "### 3. Preprocessing the Data"
   ]
  },
  {
   "cell_type": "code",
   "execution_count": null,
   "id": "df6baa81",
   "metadata": {},
   "outputs": [],
   "source": [
    "# Drop columns that are not relevant for modeling\n",
    "titanic = titanic.drop(columns=['embarked', 'who', 'sex', 'deck', 'embark_town', 'alive'])\n",
    "\n",
    "# Drop missing values\n",
    "titanic = titanic.dropna()\n",
    "\n",
    "# Encode categorical variables\n",
    "titanic['sex'] = titanic['sex'].map({'male': 0, 'female': 1})\n",
    "\n",
    "# Features and target variable\n",
    "X = titanic.drop(columns=['survived'])\n",
    "y = titanic['survived']"
   ]
  },
  {
   "cell_type": "markdown",
   "id": "47518d8d",
   "metadata": {},
   "source": [
    "### 4. Build and Train a Model\n",
    "\n",
    "Let’s use a RandomForestClassifier, but you can experiment with other models as well. We’ll also use MLflow to log parameters and metrics."
   ]
  },
  {
   "cell_type": "code",
   "execution_count": null,
   "id": "830fc93d",
   "metadata": {},
   "outputs": [],
   "source": [
    "import mlflow\n",
    "import mlflow.sklearn\n",
    "from sklearn.ensemble import RandomForestClassifier\n",
    "from sklearn.model_selection import train_test_split\n",
    "from sklearn.metrics import accuracy_score, f1_score\n",
    "\n",
    "# Split data into train and test sets\n",
    "X_train, X_test, y_train, y_test = train_test_split(X, y, test_size=0.2, random_state=42)\n",
    "\n",
    "# Set up MLflow experiment\n",
    "mlflow.set_experiment('Titanic_Survival_Prediction')\n",
    "\n",
    "# Log parameters, metrics, and model using MLflow\n",
    "with mlflow.start_run():\n",
    "    # Define model parameters\n",
    "    n_estimators = 100\n",
    "    learning_rate = 0.1\n",
    "\n",
    "    # Train the model\n",
    "    model = RandomForestClassifier(n_estimators=n_estimators, random_state=42)\n",
    "    model.fit(X_train, y_train)\n",
    "\n",
    "    # Predict on the test set\n",
    "    y_pred = model.predict(X_test)\n",
    "\n",
    "    # Calculate accuracy and f1 score\n",
    "    accuracy = accuracy_score(y_test, y_pred)\n",
    "    f1 = f1_score(y_test, y_pred)\n",
    "\n",
    "    # Log parameters and metrics to MLflow\n",
    "    mlflow.log_param('n_estimators', n_estimators)\n",
    "    mlflow.log_param('learning_rate', learning_rate)\n",
    "    mlflow.log_metric('accuracy', accuracy)\n",
    "    mlflow.log_metric('f1_score', f1)\n",
    "\n",
    "    # Log the model\n",
    "    mlflow.sklearn.log_model(model, 'model')\n",
    "\n",
    "    print(f\"Accuracy: {accuracy}\")\n",
    "    print(f\"F1 Score: {f1}\")"
   ]
  },
  {
   "cell_type": "markdown",
   "id": "fae9fc83",
   "metadata": {},
   "source": [
    "### 5. Compare the Runs in MLflow UI"
   ]
  },
  {
   "cell_type": "markdown",
   "id": "ede0b8c1",
   "metadata": {},
   "source": [
    "Start MLflow server: To view the experiments and compare them, you need to start the MLflow tracking UI. In the terminal, run:"
   ]
  },
  {
   "cell_type": "code",
   "execution_count": null,
   "id": "70be0603",
   "metadata": {},
   "outputs": [],
   "source": [
    "mlflow ui"
   ]
  },
  {
   "cell_type": "code",
   "execution_count": null,
   "id": "1d8abc91",
   "metadata": {},
   "outputs": [],
   "source": [
    "#This will start a web server, and you can visit the UI at http://127.0.0.1:5000/ in your browser."
   ]
  },
  {
   "cell_type": "markdown",
   "id": "148d778c",
   "metadata": {},
   "source": [
    "Multiple Runs: To compare multiple runs, you can train your model several times, possibly with different hyperparameters (e.g., different n_estimators, learning_rate), and each time, MLflow will log the parameters and metrics. You’ll be able to view and compare them in the UI."
   ]
  },
  {
   "cell_type": "markdown",
   "id": "f7551aa8",
   "metadata": {},
   "source": [
    "### 6. Document the Setup Guidelines"
   ]
  },
  {
   "cell_type": "code",
   "execution_count": 2,
   "id": "6ff6725c",
   "metadata": {},
   "outputs": [],
   "source": [
    "#In your project, create a README.md file with the following content:"
   ]
  },
  {
   "cell_type": "markdown",
   "id": "be9acbd1",
   "metadata": {},
   "source": [
    "# Titanic Survival Prediction with MLflow\n",
    "\n",
    "This project demonstrates the use of MLflow to track machine learning experiments. We use a RandomForestClassifier to predict Titanic survival based on various features.\n",
    "\n",
    "## Setup Instructions\n",
    "\n",
    "1. **Create a virtual environment** (recommended):\n",
    "   ```bash\n",
    "   python -m venv venv\n",
    "   source venv/bin/activate  # On Windows, use venv\\Scripts\\activate\n"
   ]
  },
  {
   "cell_type": "markdown",
   "id": "5251e6f2",
   "metadata": {},
   "source": [
    "2. Install dependencies:"
   ]
  },
  {
   "cell_type": "code",
   "execution_count": null,
   "id": "9dcd462b",
   "metadata": {},
   "outputs": [],
   "source": [
    "pip install pandas scikit-learn mlflow seaborn\n"
   ]
  },
  {
   "cell_type": "markdown",
   "id": "fc5d2ed3",
   "metadata": {},
   "source": [
    "3. Run the experiment:"
   ]
  },
  {
   "cell_type": "markdown",
   "id": "779a5de4",
   "metadata": {},
   "source": [
    "Clone this repository and run the Python script to train the model and log metrics.\n",
    "\n",
    "Start the MLflow UI\n",
    "\n",
    "mlflow ui\n",
    "\n",
    "Visit http://127.0.0.1:5000 to view and compare experiments."
   ]
  },
  {
   "cell_type": "markdown",
   "id": "7e62422a",
   "metadata": {},
   "source": [
    "4. Log parameters and metrics:\n",
    "\n",
    "Parameters (e.g., n_estimators, learning_rate) and metrics (e.g., accuracy, f1_score) are logged automatically during training."
   ]
  },
  {
   "cell_type": "markdown",
   "id": "15b27c6d",
   "metadata": {},
   "source": [
    "How to Compare Runs\n",
    "\n",
    "After training different models, visit the MLflow UI at http://127.0.0.1:5000.\n",
    "\n",
    "Navigate to the \"Experiments\" tab to see all your runs.\n",
    "\n",
    "Compare the logged parameters and metrics to select the best model."
   ]
  },
  {
   "cell_type": "markdown",
   "id": "7671d4af",
   "metadata": {},
   "source": [
    "\n",
    "### 7. Prepare the GitHub Repository\n",
    "\n",
    "1. **Create a GitHub Repository**:\n",
    "   - Create a repository on GitHub (e.g., `HW-MLflow`).\n",
    "   \n",
    "2. **Add Your Code**:\n",
    "   - Push the code for your project to GitHub, including:\n",
    "     - The Python script(s) for training models.\n",
    "     - The `README.md` file with the setup instructions.\n",
    "   \n",
    "3. **Push to GitHub**:\n",
    "   - Commit and push your changes to the repository:\n",
    "     ```bash\n",
    "     git init\n",
    "     git add .\n",
    "     git commit -m \"Initial commit\"\n",
    "     git remote add origin <your_repo_url>\n",
    "     git push -u origin master\n",
    "     ```\n"
   ]
  },
  {
   "cell_type": "code",
   "execution_count": null,
   "id": "14965571",
   "metadata": {},
   "outputs": [],
   "source": []
  },
  {
   "cell_type": "code",
   "execution_count": null,
   "id": "6ff4db7a",
   "metadata": {},
   "outputs": [],
   "source": []
  }
 ],
 "metadata": {
  "kernelspec": {
   "display_name": "Python 3 (ipykernel)",
   "language": "python",
   "name": "python3"
  },
  "language_info": {
   "codemirror_mode": {
    "name": "ipython",
    "version": 3
   },
   "file_extension": ".py",
   "mimetype": "text/x-python",
   "name": "python",
   "nbconvert_exporter": "python",
   "pygments_lexer": "ipython3",
   "version": "3.11.5"
  }
 },
 "nbformat": 4,
 "nbformat_minor": 5
}
